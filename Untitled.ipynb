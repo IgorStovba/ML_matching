{
 "cells": [
  {
   "cell_type": "code",
   "execution_count": 1,
   "id": "36e2fbad",
   "metadata": {},
   "outputs": [],
   "source": [
    "import numpy as np\n",
    "import pandas as pd\n",
    "import matplotlib.pyplot as plt\n",
    "import faiss\n",
    "\n",
    "from sklearn.neighbors import NearestNeighbors\n",
    "from sklearn.model_selection import train_test_split\n",
    "\n",
    "RANDOM_SEED = 42"
   ]
  },
  {
   "cell_type": "code",
   "execution_count": 2,
   "id": "6a82a702",
   "metadata": {},
   "outputs": [],
   "source": [
    "base = pd.read_csv('base.csv', index_col=0)"
   ]
  },
  {
   "cell_type": "code",
   "execution_count": 3,
   "id": "3f394025",
   "metadata": {},
   "outputs": [],
   "source": [
    "train = pd.read_csv('train.csv')\n",
    "validation = pd.read_csv('validation.csv')\n",
    "validation_answer = pd.read_csv('validation_answer.csv')"
   ]
  },
  {
   "cell_type": "code",
   "execution_count": 14,
   "id": "3c732c93",
   "metadata": {},
   "outputs": [
    {
     "data": {
      "text/plain": [
       "min   -1297.931468\n",
       "max    1557.433380\n",
       "dtype: float64"
      ]
     },
     "execution_count": 14,
     "metadata": {},
     "output_type": "execute_result"
    }
   ],
   "source": [
    "base.describe().loc[['min','max']].T.agg({\n",
    "    'min': min,\n",
    "    'max': max\n",
    "})"
   ]
  },
  {
   "cell_type": "code",
   "execution_count": 13,
   "id": "3df9fb21",
   "metadata": {},
   "outputs": [
    {
     "data": {
      "text/plain": [
       "min   -1297.871984\n",
       "max    1557.383334\n",
       "dtype: float64"
      ]
     },
     "execution_count": 13,
     "metadata": {},
     "output_type": "execute_result"
    }
   ],
   "source": [
    "train.describe().loc[['min','max']].T.agg({\n",
    "    'min': min,\n",
    "    'max': max\n",
    "})"
   ]
  },
  {
   "cell_type": "markdown",
   "id": "eaac7603",
   "metadata": {},
   "source": [
    "С большим запасом поместиться в float16"
   ]
  },
  {
   "cell_type": "code",
   "execution_count": null,
   "id": "8637d391",
   "metadata": {},
   "outputs": [],
   "source": [
    "# class Floating:\n",
    "    \n",
    "#     def __init__(self, )"
   ]
  },
  {
   "cell_type": "markdown",
   "id": "6850d962",
   "metadata": {},
   "source": [
    "Метрика - accuracy Top-5. Предсказываем на 1 запрос 5 товаров. Если хотя бы 1 из 5 совпал с реальным, то объект верно обработан"
   ]
  },
  {
   "cell_type": "code",
   "execution_count": 31,
   "id": "e9b439b0",
   "metadata": {},
   "outputs": [],
   "source": [
    "base_index = {k: v for k, v in enumerate(base.index.tolist())}\n",
    "\n",
    "def accuracy_top_5(pred_list: list, real_answers: list) -> float:\n",
    "    acc = 0\n",
    "    for five_list, answer in zip(pred_list, real_answers):\n",
    "        acc += int(answer in [base_index[el] for el in five_list])\n",
    "    \n",
    "    return (100 * acc / len(real_answers))"
   ]
  },
  {
   "cell_type": "code",
   "execution_count": 16,
   "id": "cc5c0c6b",
   "metadata": {},
   "outputs": [
    {
     "data": {
      "text/plain": [
       "(2918139, 72)"
      ]
     },
     "execution_count": 16,
     "metadata": {},
     "output_type": "execute_result"
    }
   ],
   "source": [
    "base.shape"
   ]
  },
  {
   "cell_type": "code",
   "execution_count": 17,
   "id": "726f6b66",
   "metadata": {
    "scrolled": true
   },
   "outputs": [],
   "source": [
    "train.set_index(train['Id'], inplace=True)\n",
    "train.drop(columns=['Id'], inplace=True)\n",
    "\n",
    "train_feat = train.drop(columns=['Target'])\n",
    "train_target = train['Target']"
   ]
  },
  {
   "cell_type": "markdown",
   "id": "1045ff47",
   "metadata": {},
   "source": [
    "## Baseline"
   ]
  },
  {
   "cell_type": "code",
   "execution_count": 21,
   "id": "7c76dc93",
   "metadata": {},
   "outputs": [],
   "source": [
    "dims = base.shape[1]\n",
    "n_cells = 40"
   ]
  },
  {
   "cell_type": "code",
   "execution_count": 22,
   "id": "515d38cb",
   "metadata": {},
   "outputs": [],
   "source": [
    "quantizer = faiss.IndexFlatL2(dims)\n",
    "index_l2 = faiss.IndexIVFFlat(quantizer, dims, n_cells)"
   ]
  },
  {
   "cell_type": "code",
   "execution_count": 23,
   "id": "f9494b7b",
   "metadata": {},
   "outputs": [],
   "source": [
    "index_l2.train(np.ascontiguousarray(base.values[:50000, :]).astype('float32'))\n",
    "index_l2.add(np.ascontiguousarray(base.values).astype('float32'))"
   ]
  },
  {
   "cell_type": "code",
   "execution_count": 24,
   "id": "f6c787a3",
   "metadata": {},
   "outputs": [],
   "source": [
    "vec, idx = index_l2.search(np.ascontiguousarray(train_feat.values).astype('float32'), 5)"
   ]
  },
  {
   "cell_type": "code",
   "execution_count": 33,
   "id": "dcccf9f9",
   "metadata": {},
   "outputs": [
    {
     "name": "stdout",
     "output_type": "stream",
     "text": [
      "Base score: 9.358\n"
     ]
    }
   ],
   "source": [
    "initial_score = accuracy_top_5(idx.tolist(), train_target.values.tolist())\n",
    "print(f'Base score: {initial_score}')"
   ]
  },
  {
   "cell_type": "code",
   "execution_count": null,
   "id": "9c9b18ed",
   "metadata": {},
   "outputs": [],
   "source": []
  },
  {
   "cell_type": "code",
   "execution_count": null,
   "id": "810f0674",
   "metadata": {},
   "outputs": [],
   "source": []
  },
  {
   "cell_type": "code",
   "execution_count": null,
   "id": "6af76e06",
   "metadata": {},
   "outputs": [],
   "source": []
  }
 ],
 "metadata": {
  "kernelspec": {
   "display_name": "Python 3 (ipykernel)",
   "language": "python",
   "name": "python3"
  },
  "language_info": {
   "codemirror_mode": {
    "name": "ipython",
    "version": 3
   },
   "file_extension": ".py",
   "mimetype": "text/x-python",
   "name": "python",
   "nbconvert_exporter": "python",
   "pygments_lexer": "ipython3",
   "version": "3.10.9"
  }
 },
 "nbformat": 4,
 "nbformat_minor": 5
}
